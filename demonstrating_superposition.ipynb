{
  "nbformat": 4,
  "nbformat_minor": 0,
  "metadata": {
    "colab": {
      "provenance": []
    },
    "kernelspec": {
      "name": "python3",
      "display_name": "Python 3"
    },
    "language_info": {
      "name": "python"
    }
  },
  "cells": [
    {
      "cell_type": "code",
      "execution_count": null,
      "metadata": {
        "id": "pS6AZe_OLEkH"
      },
      "outputs": [],
      "source": [
        "import torch\n",
        "from torch import nn\n",
        "import matplotlib.pyplot as plt\n"
      ]
    },
    {
      "cell_type": "code",
      "source": [
        "class config():\n",
        "  features: int\n",
        "  instances: int\n",
        "  hidden: int\n",
        "\n",
        "class Model():\n",
        "  # Create model here\n",
        "  def __init__(self, config, importance, sparsity, device='cuda'):\n",
        "    self.config = config\n",
        "    self.importance = importance.to(device)\n",
        "    self.sparsity = sparsity.to(device)\n",
        "\n",
        "    self.W = nn.Parameter(torch.zeros(config.instances, config.features, config.hidden), device=device)\n",
        "    nn.init.xavier_uniform(self.W)\n",
        "\n",
        "    self.b = nn.Parameter(torch.zeros((config.instances, config.features), device=device))\n",
        "\n",
        "\n",
        "  def forward(self, features):\n",
        "    pass\n",
        "\n",
        "  def batch(self, batch_size):\n",
        "    pass"
      ],
      "metadata": {
        "id": "C3s4O4kRLiNj"
      },
      "execution_count": null,
      "outputs": []
    }
  ]
}