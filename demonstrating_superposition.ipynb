{
  "nbformat": 4,
  "nbformat_minor": 0,
  "metadata": {
    "colab": {
      "provenance": [],
      "authorship_tag": "ABX9TyP6ZJELVJHIvcPlEs2Zbt2B",
      "include_colab_link": true
    },
    "kernelspec": {
      "name": "python3",
      "display_name": "Python 3"
    },
    "language_info": {
      "name": "python"
    }
  },
  "cells": [
    {
      "cell_type": "markdown",
      "metadata": {
        "id": "view-in-github",
        "colab_type": "text"
      },
      "source": [
        "<a href=\"https://colab.research.google.com/github/Evan-eng/anthropic_superposition_experiment_recreation/blob/main/demonstrating_superposition.ipynb\" target=\"_parent\"><img src=\"https://colab.research.google.com/assets/colab-badge.svg\" alt=\"Open In Colab\"/></a>"
      ]
    },
    {
      "cell_type": "code",
      "execution_count": null,
      "metadata": {
        "id": "pS6AZe_OLEkH"
      },
      "outputs": [],
      "source": [
        "import torch\n",
        "from torch import nn\n",
        "import matplotlib.pyplot as plt\n"
      ]
    },
    {
      "cell_type": "code",
      "source": [
        "features = 100 # n\n",
        "hidden = 20 # m\n",
        "\n",
        "class linear_model(nn.Module):\n",
        "  # Create model here\n",
        "  def __init__(self):\n",
        "    super().__init__()\n",
        "    self.layer1 = nn.Linear(n, m, bias=False)\n",
        "    self.layer2 = nn.Linear(m, n)\n",
        "\n",
        "  def forward(self, x):\n",
        "    x = self.layer1(x)\n",
        "    x = self.layer2(x)\n",
        "    return x\n",
        "\n",
        "# h = Wx\n",
        "# (m x 1) = (m x n) (n x 1)\n",
        "\n",
        "# x' = W^T h + b\n",
        "# (n x 1) = (n x m) (m x 1) + (n x 1)\n",
        "\n",
        "class relu_model(nn.Module):\n",
        "  # Create model here\n",
        "  def __init__(self):\n",
        "    super().__init__()\n",
        "    self.layer1 = nn.Linear(n, m, bias=False)\n",
        "    self.layer2 = nn.Linear(m, n)\n",
        "\n",
        "    self.relu = nn.ReLu()\n",
        "\n",
        "  def forward(self, x):\n",
        "    x = self.relu(self.layer1(x))\n",
        "    x = self.relu(self.layer2(x))\n",
        "    return x\n"
      ],
      "metadata": {
        "id": "C3s4O4kRLiNj"
      },
      "execution_count": null,
      "outputs": []
    }
  ]
}